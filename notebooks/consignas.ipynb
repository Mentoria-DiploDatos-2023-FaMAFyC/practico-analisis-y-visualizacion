{
 "cells": [
  {
   "attachments": {},
   "cell_type": "markdown",
   "metadata": {},
   "source": [
    "# Practico 1 - Análisis y Visualización\n",
    "\n",
    "### Que busco de ustedes en este practico?\n",
    "\n",
    "- Quiero que se familiaricen con el dataset y que practiquen el análisis de datos con Python\n",
    "- Háganse preguntas sobre los tipos de relaciones que puedan aparecer a medida que analizan cada atributo.\n",
    "- Toda visualización que incluyan debe ir acompañada de un titulo y una explicación de lo que sucede.\n",
    "- No es necesario responder las consignas en orden. Exploren el dataset y ordenen el resumen como les resulte natural\n",
    "\n",
    "## Consignas\n",
    "\n",
    "1. De las columnas listadas a continuación, pido mínimamente identificar el tipo de dato, un análisis de la distribución e identificar outliers. La idea es poder responder las preguntas que se sugieren en cada caso, o que simplemente hagan una descripción de los datos como los ven. Las columnas **budget, genres, popularity, revenue, release_date y vote_average** son obligatorias, el resto son opcionales.\n",
    "    - **budget**: presupuesto destinado a la producción de la película\n",
    "        - Hace falta convertirla a numérica. Porque ocurre esto? Existen valores no numéricos? o fue un error?\n",
    "        - Como se distribuye?\n",
    "        - Que relación hay entre budget y revenue?\n",
    "    - **genres:** lista con los géneros a los que pertenece la película. Puede haber de 0 a N géneros.\n",
    "        - Como se distribuye la cantidad de géneros que tiene una película?\n",
    "        - Cual es el genero mas popular?\n",
    "    - **original_language:** lenguaje original de la película\n",
    "        - Cuales son los idiomas predominantes?\n",
    "        - Los idiomas que predominan tienen las películas mas populares?\n",
    "    - **popularity.** Flotante con un numero que indica la popularidad de la película\n",
    "        - Similar a budget, hace falta convertirla a numérica.\n",
    "        - Me interesa comparar esta columna con vote_average. Si existen correlaciones, y en que se diferencian\n",
    "    - **production_companies**: lista de las entidades cinematográficas que participaron en la producción de la película\n",
    "        - Hay alguna que predomine?\n",
    "        - Cuales son las productoras mas exitosas?\n",
    "    - **production_countries**. Países donde se produjo la película (puede que no solo tenga que ver con donde se filmo, sino también donde se produjo. Elijan alguna película de ejemplo y verifiquen esto)\n",
    "    - **release_date**. fecha de estreno. Necesario transformarla a formato datetime\n",
    "        - Me interesaría ver como se distribuyen, sobre todo los años. Para entender la escala temporal que abarcamos.\n",
    "    - **revenue**. Cuanto gano la película\n",
    "        - Como es la distribución? Existen outliers?\n",
    "        - Este es un indicador que contrastándolo con budget podría llegar a ser un indicador de éxito. Como se distribuye esta diferencia? Como se relaciona con la popularidad?\n",
    "    - **runtime**. Duración en minutos de la película\n",
    "        - Como se distribuye?\n",
    "    - **spoken_languages**. Idiomas hablados en las películas\n",
    "        - Que porcentaje de películas se hablan solo en ingles?\n",
    "        - Como se distribuye la popularidad de las películas según si hablan en ingles o en otros idiomas?\n",
    "    - **title**. titulo de la película.\n",
    "        - No tiene mucho potencial de análisis, pero sirve para nosotros identificar la película y quizás referenciar alguna búsqueda externa.\n",
    "        - Una buena practica es elegir alguna o varias películas que consideren tengan atributos significativos para referenciar y reconocer en los distintos análisis que realicen sobre las otras variables. Ayuda a interpretar las visualizaciones.\n",
    "    - **vote_average.** Es la otra variable ademas de popularity que puede ser un indicador directo del éxito. Hacerle un trabajo similar que el que se haga con popularity.\n",
    "    - **vote_count.** Es la cantidad de votos que tiene cada película. Condiciona el peso de vote_average ya que una película con un average de 5 y 2 votos pesa menos que un a película con un average de 4.8 y 100 votos.\n",
    "        - Que distribución tiene?\n",
    "2. Encontrar relaciones entre las columnas que analizaron. Existen variables condicionadas por otras? Que correlación hay entre las variables numéricas? \n",
    "\n",
    "3. Cual es nuestro indicador de éxito?\n",
    "\n",
    "**Popularity vs vote_average + vote_count** Como se relaciona la popularidad de una película con sus votos? Estas variables pueden estar indicando lo mismo, lo que puede traer redundancia a nuestro set de datos. Hacer un análisis conjunto sobre estas columnas y exploren que información aporta cada una. \n"
   ]
  },
  {
   "attachments": {},
   "cell_type": "markdown",
   "metadata": {},
   "source": []
  }
 ],
 "metadata": {
  "kernelspec": {
   "display_name": "neoland",
   "language": "python",
   "name": "python3"
  },
  "language_info": {
   "name": "python",
   "version": "3.9.13"
  },
  "orig_nbformat": 4
 },
 "nbformat": 4,
 "nbformat_minor": 2
}
